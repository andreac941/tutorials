{
  "cells": [
    {
      "cell_type": "markdown",
      "metadata": {
        "id": "view-in-github",
        "colab_type": "text"
      },
      "source": [
        "<a href=\"https://colab.research.google.com/github/andreac941/tutorials/blob/main/TC5033_Activity3b_ID01.ipynb\" target=\"_parent\"><img src=\"https://colab.research.google.com/assets/colab-badge.svg\" alt=\"Open In Colab\"/></a>"
      ]
    },
    {
      "cell_type": "markdown",
      "id": "940c6dbc",
      "metadata": {
        "id": "940c6dbc"
      },
      "source": [
        "## TC 5033\n",
        "### Word Embeddings\n",
        "### **Team 1**:\n",
        "- Alexis Hernández Martínez A01016308\n",
        "- Rigoberto Vega Escudero A01793132\n",
        "- Rodrigo Rodríguez Rodríguez A01183284\n",
        "- Andrea Carolina Treviño Garza A01034993\n",
        "\n",
        "<br>\n",
        "\n",
        "### **Activity 3b: Text Classification using RNNs and AG_NEWS dataset in PyTorch**\n",
        "<br>\n",
        "\n",
        "- Objective:\n",
        "    - Understand the basics of Recurrent Neural Networks (RNNs) and their application in text classification.\n",
        "    - Learn how to handle a real-world text dataset, AG_NEWS, in PyTorch.\n",
        "    - Gain hands-on experience in defining, training, and evaluating a text classification model in PyTorch.\n",
        "    \n",
        "<br>\n",
        "\n",
        "- Instructions:\n",
        "    - Data Preparation: Starter code will be provided that loads the AG_NEWS dataset and prepares it for training. Do not modify this part. However, you should be sure to understand it, and comment it, the use of markdown cells is suggested.\n",
        "\n",
        "    - Model Setup: A skeleton code for the RNN model class will be provided. Complete this class and use it to instantiate your model.\n",
        "\n",
        "    - Implementing Accuracy Function: Write a function that takes model predictions and ground truth labels as input and returns the model's accuracy.\n",
        "\n",
        "    - Training Function: Implement a function that performs training on the given model using the AG_NEWS dataset. Your model should achieve an accuracy of at least 80% to get full marks for this part.\n",
        "\n",
        "    - Text Sampling: Write a function that takes a sample text as input and classifies it using your trained model.\n",
        "\n",
        "    - Confusion Matrix: Implement a function to display the confusion matrix for your model on the test data.\n",
        "\n",
        "    - Submission: Submit your completed Jupyter Notebook. Make sure to include a markdown cell at the beginning of the notebook that lists the names of all team members. Teams should consist of 3 to 4 members.\n",
        "    \n",
        "<br>\n",
        "\n",
        "- Evaluation Criteria:\n",
        "\n",
        "    - Correct setup of all the required libraries and modules (10%)\n",
        "    - Code Quality (30%): Your code should be well-organized, clearly commented, and easy to follow. Use also markdown cells for clarity. Comments should be given for all the provided code, this will help you understand its functionality.\n",
        "    \n",
        "   - Functionality (60%):\n",
        "        - All the functions should execute without errors and provide the expected outputs.\n",
        "        - RNN model class (20%)\n",
        "        - Accuracy function (10%)\n",
        "        - Training function (10%)\n",
        "        - Sampling function (10%)\n",
        "        - Confusion matrix (10%)\n",
        "\n",
        "        - The model should achieve at least an 80% accuracy on the AG_NEWS test set for full marks in this criterion.\n"
      ]
    },
    {
      "cell_type": "markdown",
      "id": "4de318da",
      "metadata": {
        "id": "4de318da"
      },
      "source": [
        "Dataset\n",
        "\n",
        "https://pytorch.org/text/stable/datasets.html#text-classification\n",
        "\n",
        "https://paperswithcode.com/dataset/ag-news\n"
      ]
    },
    {
      "cell_type": "markdown",
      "id": "4a9801f9",
      "metadata": {
        "id": "4a9801f9"
      },
      "source": [
        "### Import libraries"
      ]
    },
    {
      "cell_type": "code",
      "execution_count": 1,
      "id": "54394f53",
      "metadata": {
        "colab": {
          "base_uri": "https://localhost:8080/"
        },
        "id": "54394f53",
        "outputId": "24add488-c9df-43c0-ff1a-bc2b782691f7"
      },
      "outputs": [
        {
          "output_type": "stream",
          "name": "stdout",
          "text": [
            "Requirement already satisfied: scikit-plot in /usr/local/lib/python3.10/dist-packages (0.3.7)\n",
            "Requirement already satisfied: matplotlib>=1.4.0 in /usr/local/lib/python3.10/dist-packages (from scikit-plot) (3.7.1)\n",
            "Requirement already satisfied: scikit-learn>=0.18 in /usr/local/lib/python3.10/dist-packages (from scikit-plot) (1.2.2)\n",
            "Requirement already satisfied: scipy>=0.9 in /usr/local/lib/python3.10/dist-packages (from scikit-plot) (1.11.3)\n",
            "Requirement already satisfied: joblib>=0.10 in /usr/local/lib/python3.10/dist-packages (from scikit-plot) (1.3.2)\n",
            "Requirement already satisfied: contourpy>=1.0.1 in /usr/local/lib/python3.10/dist-packages (from matplotlib>=1.4.0->scikit-plot) (1.1.1)\n",
            "Requirement already satisfied: cycler>=0.10 in /usr/local/lib/python3.10/dist-packages (from matplotlib>=1.4.0->scikit-plot) (0.12.1)\n",
            "Requirement already satisfied: fonttools>=4.22.0 in /usr/local/lib/python3.10/dist-packages (from matplotlib>=1.4.0->scikit-plot) (4.43.1)\n",
            "Requirement already satisfied: kiwisolver>=1.0.1 in /usr/local/lib/python3.10/dist-packages (from matplotlib>=1.4.0->scikit-plot) (1.4.5)\n",
            "Requirement already satisfied: numpy>=1.20 in /usr/local/lib/python3.10/dist-packages (from matplotlib>=1.4.0->scikit-plot) (1.23.5)\n",
            "Requirement already satisfied: packaging>=20.0 in /usr/local/lib/python3.10/dist-packages (from matplotlib>=1.4.0->scikit-plot) (23.2)\n",
            "Requirement already satisfied: pillow>=6.2.0 in /usr/local/lib/python3.10/dist-packages (from matplotlib>=1.4.0->scikit-plot) (9.4.0)\n",
            "Requirement already satisfied: pyparsing>=2.3.1 in /usr/local/lib/python3.10/dist-packages (from matplotlib>=1.4.0->scikit-plot) (3.1.1)\n",
            "Requirement already satisfied: python-dateutil>=2.7 in /usr/local/lib/python3.10/dist-packages (from matplotlib>=1.4.0->scikit-plot) (2.8.2)\n",
            "Requirement already satisfied: threadpoolctl>=2.0.0 in /usr/local/lib/python3.10/dist-packages (from scikit-learn>=0.18->scikit-plot) (3.2.0)\n",
            "Requirement already satisfied: six>=1.5 in /usr/local/lib/python3.10/dist-packages (from python-dateutil>=2.7->matplotlib>=1.4.0->scikit-plot) (1.16.0)\n"
          ]
        }
      ],
      "source": [
        "# Installation of requirements:\n",
        "# conda install -c pytorch torchtext\n",
        "# conda install -c pytorch torchdata\n",
        "# conda install pytorch torchvision torchaudio cudatoolkit=10.2 -c pytorch\n",
        "!pip install scikit-plot"
      ]
    },
    {
      "cell_type": "code",
      "execution_count": 2,
      "id": "878b524f",
      "metadata": {
        "id": "878b524f"
      },
      "outputs": [],
      "source": [
        "# The following libraries are required for running the given code:\n",
        "# Please feel free to add any libraries you consider adecuate to complete the assignment.\n",
        "import numpy as np\n",
        "#PyTorch libraries\n",
        "import torch\n",
        "from torchtext.datasets import AG_NEWS\n",
        "# Dataloader library\n",
        "from torch.utils.data import DataLoader\n",
        "from torch.utils.data.dataset import random_split\n",
        "# Libraries to prepare the data\n",
        "from torchtext.data.utils import get_tokenizer\n",
        "from torchtext.vocab import build_vocab_from_iterator\n",
        "from torchtext.data.functional import to_map_style_dataset\n",
        "# neural layers\n",
        "from torch import nn\n",
        "from torch.nn import functional as F\n",
        "\n",
        "# These libraries are suggested to plot confusion matrix\n",
        "# you may use others\n",
        "import scikitplot as skplt\n",
        "import gc"
      ]
    },
    {
      "cell_type": "code",
      "execution_count": 3,
      "id": "3bab55f3",
      "metadata": {
        "colab": {
          "base_uri": "https://localhost:8080/"
        },
        "id": "3bab55f3",
        "outputId": "118dc75f-7f6d-4d3e-b668-2473d6f86cd6"
      },
      "outputs": [
        {
          "output_type": "stream",
          "name": "stdout",
          "text": [
            "cpu\n"
          ]
        }
      ],
      "source": [
        "# Use GPU if available\n",
        "device = torch.device(\"cuda\" if torch.cuda.is_available() else \"cpu\")\n",
        "print(device)"
      ]
    },
    {
      "cell_type": "markdown",
      "id": "3d38956d",
      "metadata": {
        "id": "3d38956d"
      },
      "source": [
        "### Get the train and the test datasets and dataloaders"
      ]
    },
    {
      "cell_type": "markdown",
      "id": "e9c6b784",
      "metadata": {
        "id": "e9c6b784"
      },
      "source": [
        "Classes:\n",
        "\n",
        "* 1 - World\n",
        "\n",
        "* 2 - Sports\n",
        "\n",
        "* 3 - Business\n",
        "\n",
        "* 4 - Sci/Tech\n",
        "\n",
        "We will convert them to:\n",
        "\n",
        "* 0 - World\n",
        "\n",
        "* 1 - Sports\n",
        "\n",
        "* 2 - Business\n",
        "\n",
        "* 3 - Sci/Tech"
      ]
    },
    {
      "cell_type": "code",
      "execution_count": 4,
      "id": "49fbed19",
      "metadata": {
        "id": "49fbed19"
      },
      "outputs": [],
      "source": [
        "# Loading train & test dataset from AG_NEWS dataset\n",
        "train_dataset, test_dataset = AG_NEWS()\n",
        "# Converting iterable objects from dataset to mapping style\n",
        "train_dataset, test_dataset = to_map_style_dataset(train_dataset), to_map_style_dataset(test_dataset)"
      ]
    },
    {
      "cell_type": "code",
      "execution_count": 6,
      "id": "9c372eb9",
      "metadata": {
        "id": "9c372eb9"
      },
      "outputs": [],
      "source": [
        "# Get the tokenizer\n",
        "# tokenizer object, for getting the tokens (words) from a sentence:\n",
        "tokeniser = get_tokenizer('basic_english')\n",
        "\n",
        "# Function for producing the tokens fron a dataset\n",
        "def yield_tokens(data):\n",
        "    for _, text in data:\n",
        "        yield tokeniser(text)"
      ]
    },
    {
      "cell_type": "code",
      "execution_count": 7,
      "id": "794d0375",
      "metadata": {
        "id": "794d0375"
      },
      "outputs": [],
      "source": [
        "# Build the vocabulary\n",
        "vocab = build_vocab_from_iterator(yield_tokens(train_dataset), specials=[\"<unk>\"])\n",
        "# Set unknown token at position 0\n",
        "vocab.set_default_index(vocab[\"<unk>\"])"
      ]
    },
    {
      "cell_type": "code",
      "execution_count": 8,
      "id": "b48268d4",
      "metadata": {
        "colab": {
          "base_uri": "https://localhost:8080/"
        },
        "id": "b48268d4",
        "outputId": "0adc7c5a-8465-4e12-fa3a-ef622121500f"
      },
      "outputs": [
        {
          "output_type": "stream",
          "name": "stdout",
          "text": [
            "['welcome', 'to', 'te3007'] [3314, 4, 0]\n"
          ]
        }
      ],
      "source": [
        "# Test the functions for creating tokens:\n",
        "tokens = tokeniser('Welcome to TE3007')\n",
        "print(tokens, vocab(tokens))"
      ]
    },
    {
      "cell_type": "code",
      "execution_count": 9,
      "id": "c8c8f6a6",
      "metadata": {
        "id": "c8c8f6a6"
      },
      "outputs": [],
      "source": [
        "# Defining the number of examples for training and validation dataset\n",
        "NUM_TRAIN = int(len(train_dataset)*0.9)\n",
        "NUM_VAL = len(train_dataset) - NUM_TRAIN"
      ]
    },
    {
      "cell_type": "code",
      "execution_count": 10,
      "id": "8290895e",
      "metadata": {
        "id": "8290895e"
      },
      "outputs": [],
      "source": [
        "# Randomly splitting the training and validation datasets\n",
        "train_dataset, val_dataset = random_split(train_dataset, [NUM_TRAIN, NUM_VAL])"
      ]
    },
    {
      "cell_type": "code",
      "execution_count": 11,
      "id": "cbc75b54",
      "metadata": {
        "colab": {
          "base_uri": "https://localhost:8080/"
        },
        "id": "cbc75b54",
        "outputId": "2a3d5bec-7c93-4d95-a8bb-89dbaf8d0730"
      },
      "outputs": [
        {
          "output_type": "stream",
          "name": "stdout",
          "text": [
            "108000 12000 7600\n"
          ]
        }
      ],
      "source": [
        "# Printing the size of the train, validation and test dataset\n",
        "print(len(train_dataset), len(val_dataset), len(test_dataset))"
      ]
    },
    {
      "cell_type": "code",
      "execution_count": 12,
      "id": "ffdbf077",
      "metadata": {
        "id": "ffdbf077"
      },
      "outputs": [],
      "source": [
        "# Function passed to the DataLoader to process a batch of data as indicated\n",
        "def collate_batch(batch):\n",
        "    # Get label and text\n",
        "    y, x = list(zip(*batch))\n",
        "\n",
        "    # Create list with indices from tokeniser\n",
        "    x = [vocab(tokeniser(text)) for text in x]\n",
        "    x = [t + ([0]*(max_tokens - len(t))) if len(t) < max_tokens else t[:max_tokens] for t in x]\n",
        "\n",
        "    # Prepare the labels, by subtracting 1 to get them in the range 0-3\n",
        "    return torch.tensor(x, dtype=torch.long), torch.tensor(y, dtype=torch.long) - 1"
      ]
    },
    {
      "cell_type": "code",
      "execution_count": 13,
      "id": "5eb459c7",
      "metadata": {
        "id": "5eb459c7"
      },
      "outputs": [],
      "source": [
        "# Defining the labels for the classes, the maximum amount of tokens & the batch size\n",
        "labels =  [\"World\", \"Sports\", \"Business\", \"Sci/Tech\"]\n",
        "max_tokens = 50\n",
        "BATCH_SIZE = 256"
      ]
    },
    {
      "cell_type": "code",
      "execution_count": 14,
      "id": "0a55e6ee",
      "metadata": {
        "id": "0a55e6ee"
      },
      "outputs": [],
      "source": [
        "# Loading the data of each dataset in batch sizes\n",
        "train_loader = DataLoader(train_dataset, batch_size=BATCH_SIZE, collate_fn=collate_batch, shuffle = True, drop_last=True)\n",
        "val_loader = DataLoader(val_dataset, batch_size=BATCH_SIZE, collate_fn=collate_batch, shuffle = True, drop_last=True)\n",
        "test_loader = DataLoader(test_dataset, batch_size=BATCH_SIZE, collate_fn=collate_batch, shuffle = True, drop_last=True)"
      ]
    },
    {
      "cell_type": "code",
      "execution_count": 16,
      "id": "9f51af9f",
      "metadata": {
        "colab": {
          "base_uri": "https://localhost:8080/"
        },
        "id": "9f51af9f",
        "outputId": "9050d3f7-8437-4a24-ca82-24c656563911"
      },
      "outputs": [
        {
          "output_type": "stream",
          "name": "stdout",
          "text": [
            "torch.Size([256, 50])\n",
            "torch.Size([256])\n",
            "torch.Size([50])\n",
            "tensor([1, 0, 1, 2, 1, 2, 2, 1, 2, 1, 1, 1, 1, 3, 2, 3, 0, 3, 1, 2, 0, 1, 1, 3,\n",
            "        2, 0, 0, 3, 3, 2, 1, 1, 0, 1, 1, 3, 3, 0, 2, 1, 0, 2, 2, 2, 1, 2, 2, 1,\n",
            "        1, 1, 0, 2, 1, 1, 2, 0, 1, 1, 0, 0, 0, 2, 0, 0, 0, 1, 2, 2, 1, 1, 1, 2,\n",
            "        2, 2, 0, 0, 2, 2, 2, 3, 1, 1, 2, 1, 3, 2, 2, 1, 2, 1, 3, 1, 2, 3, 2, 0,\n",
            "        3, 3, 3, 0, 2, 2, 2, 1, 2, 0, 2, 3, 1, 0, 0, 2, 2, 0, 0, 3, 3, 0, 3, 3,\n",
            "        2, 0, 1, 2, 2, 3, 2, 3, 3, 2, 2, 0, 0, 2, 1, 1, 3, 2, 3, 3, 1, 3, 3, 0,\n",
            "        3, 1, 2, 1, 2, 2, 3, 3, 3, 0, 1, 1, 2, 3, 3, 0, 3, 3, 3, 2, 3, 3, 2, 0,\n",
            "        3, 2, 2, 2, 1, 0, 2, 0, 0, 0, 1, 3, 2, 2, 0, 0, 3, 3, 3, 1, 1, 3, 1, 0,\n",
            "        3, 1, 1, 0, 3, 0, 1, 1, 1, 1, 1, 2, 1, 1, 2, 1, 3, 1, 3, 1, 0, 3, 1, 2,\n",
            "        0, 0, 0, 1, 2, 1, 3, 1, 2, 0, 3, 1, 1, 2, 0, 0, 3, 2, 3, 3, 2, 2, 1, 3,\n",
            "        0, 0, 2, 2, 2, 0, 3, 3, 0, 0, 1, 0, 0, 2, 1, 2])\n"
          ]
        }
      ],
      "source": [
        "# Validating the sizes of each batch of texts and labels\n",
        "text_batch, label_batch= next(iter(train_loader))\n",
        "print(text_batch.shape)\n",
        "print(label_batch.shape)\n",
        "print(text_batch[-1, :].shape)\n",
        "print(label_batch)"
      ]
    },
    {
      "cell_type": "markdown",
      "id": "47b98898",
      "metadata": {
        "id": "47b98898"
      },
      "source": [
        "### Let us build our RNN model"
      ]
    },
    {
      "cell_type": "code",
      "execution_count": 17,
      "id": "50f20793",
      "metadata": {
        "id": "50f20793"
      },
      "outputs": [],
      "source": [
        "# Defining the size of each Embedding, neurons size, hidden layers, and number of classes.\n",
        "EMBEDDING_SIZE = 50\n",
        "NEURONS = 256\n",
        "LAYERS = 2\n",
        "NUM_CLASSES = 256"
      ]
    },
    {
      "cell_type": "code",
      "execution_count": 18,
      "id": "df496b42",
      "metadata": {
        "id": "df496b42"
      },
      "outputs": [],
      "source": [
        "# Function for our RNN model\n",
        "class RNN_Model_1(nn.Module):\n",
        "    def __init__(self, embed_size, hidden, layers, num_classes):\n",
        "        super().__init__()\n",
        "        self.embedding_layer = nn.Embedding(num_embeddings=len(vocab),\n",
        "                                            embedding_dim=embed_size)\n",
        "        self.rnn = nn.LSTM(embed_size, hidden, layers, batch_first=True)\n",
        "        self.fc =  nn.Linear(hidden, num_classes)\n",
        "\n",
        "    #Forward pass:\n",
        "    def forward(self, x):\n",
        "        x = self.embedding_layer(x)\n",
        "        out, _ = self.rnn(x)\n",
        "        #print(y.shape)\n",
        "        out = self.fc(out[:, -1])  # Using the last output of RNN for prediction\n",
        "        return out"
      ]
    },
    {
      "cell_type": "code",
      "execution_count": 20,
      "id": "2a42613f",
      "metadata": {
        "code_folding": [],
        "id": "2a42613f"
      },
      "outputs": [],
      "source": [
        "# Function for getting the accuracy of our model with each dataset\n",
        "def accuracy(model, loader):\n",
        "    # Validating that the model is in evaluation mode.\n",
        "    model.eval()\n",
        "\n",
        "    # Initializing counters:\n",
        "    num_correct = 0\n",
        "    num_samples = 0\n",
        "\n",
        "    # Gradients aren't computed during evaluation.\n",
        "    with torch.no_grad():\n",
        "        for x, y in loader:\n",
        "            # Data is moved to the same device as the model\n",
        "            x, y = x.to(device), y.to(device)\n",
        "\n",
        "            # Calculating model predictions.\n",
        "            scores = model(x)\n",
        "            _,predictions = scores.max(-1)\n",
        "            #print(predictions)\n",
        "\n",
        "            # Updating counters:\n",
        "            num_correct += (predictions == y).sum()\n",
        "            #print(num_correct)\n",
        "            num_samples += predictions.size(0)\n",
        "\n",
        "    # Calculating accuracy\n",
        "    acc = num_correct / num_samples\n",
        "    return acc"
      ]
    },
    {
      "cell_type": "code",
      "execution_count": 22,
      "id": "5e843e1f",
      "metadata": {
        "code_folding": [],
        "id": "5e843e1f"
      },
      "outputs": [],
      "source": [
        "# Training function for our RNN model\n",
        "def train(model, optimizer, epochs, loader, loss_fn=None):\n",
        "    # In case that the loss function isn't given, we define CrossEntropyLoss by default.\n",
        "    if loss_fn is None:\n",
        "        loss_fn = nn.CrossEntropyLoss()\n",
        "\n",
        "    # Validating that the model is in training mode.\n",
        "    model.train()\n",
        "\n",
        "    # Epoch loop:\n",
        "    for epoch in range(epochs):\n",
        "        # Initializing total_loss for each epoch\n",
        "        total_loss = 0\n",
        "        #print(epoch)\n",
        "        for x, y in loader:\n",
        "            x, y = x.to(device), y.to(device)\n",
        "            optimizer.zero_grad()\n",
        "            outputs = model(x)\n",
        "            #print(outputs)\n",
        "            loss = F.cross_entropy(outputs, y)\n",
        "            loss.backward()\n",
        "            optimizer.step()\n",
        "            total_loss += loss.item()\n",
        "        # Printing the average loss for each epoch\n",
        "        print(f'Epoch {epoch+1}/{epochs}, Loss: {total_loss/len(loader)}')"
      ]
    },
    {
      "cell_type": "code",
      "execution_count": 23,
      "id": "87775b29",
      "metadata": {
        "colab": {
          "base_uri": "https://localhost:8080/"
        },
        "id": "87775b29",
        "outputId": "bacc7a50-d130-431d-cb5f-1c5e304c2f70"
      },
      "outputs": [
        {
          "output_type": "execute_result",
          "data": {
            "text/plain": [
              "RNN_Model_1(\n",
              "  (embedding_layer): Embedding(95811, 50)\n",
              "  (rnn): LSTM(50, 256, num_layers=2, batch_first=True)\n",
              "  (fc): Linear(in_features=256, out_features=256, bias=True)\n",
              ")"
            ]
          },
          "metadata": {},
          "execution_count": 23
        }
      ],
      "source": [
        "# Definition of epoch and learning rate:\n",
        "epochs = 10\n",
        "lr = 1e-3\n",
        "# Instantiating model & defining optimizer\n",
        "rnn_model = RNN_Model_1(EMBEDDING_SIZE, NEURONS, LAYERS, NUM_CLASSES).to(device)\n",
        "optimiser = torch.optim.Adam(rnn_model.parameters(), lr=lr)\n",
        "rnn_model"
      ]
    },
    {
      "cell_type": "code",
      "execution_count": null,
      "id": "aec12a1b",
      "metadata": {
        "scrolled": true,
        "colab": {
          "base_uri": "https://localhost:8080/"
        },
        "id": "aec12a1b",
        "outputId": "07a0f033-4f9b-4428-b0a0-5d5562575356"
      },
      "outputs": [
        {
          "output_type": "stream",
          "name": "stdout",
          "text": [
            "Epoch 1/10, Loss: 1.4519251024354949\n",
            "Epoch 2/10, Loss: 0.9375282277545567\n",
            "Epoch 3/10, Loss: 0.4026764198040452\n",
            "Epoch 4/10, Loss: 0.2919582261608785\n",
            "Epoch 5/10, Loss: 0.23450196525546546\n",
            "Epoch 6/10, Loss: 0.1919069536685094\n",
            "Epoch 7/10, Loss: 0.15960772611607849\n"
          ]
        }
      ],
      "source": [
        "train(rnn_model, optimiser,epochs, train_loader)"
      ]
    },
    {
      "cell_type": "code",
      "execution_count": null,
      "id": "7a3ef175",
      "metadata": {
        "id": "7a3ef175",
        "outputId": "7d30678b-664f-4c8b-d90f-d459d4445a46"
      },
      "outputs": [
        {
          "name": "stdout",
          "output_type": "stream",
          "text": [
            "Accuracy Test: 90.2883 %\n",
            "Accuracy Val: 90.3957 %\n"
          ]
        }
      ],
      "source": [
        "# Printing the accuracy of test and validation datasets:\n",
        "print(f'Accuracy Test: {accuracy(rnn_model, test_loader)*100:.4f} %')\n",
        "print(f'Accuracy Val: {accuracy(rnn_model, val_loader)*100:.4f} %')"
      ]
    },
    {
      "cell_type": "code",
      "execution_count": null,
      "id": "ed30693d",
      "metadata": {
        "id": "ed30693d"
      },
      "outputs": [],
      "source": [
        "# Function for displaying a sample text, the true label from the text and the label predicted from our RNN model\n",
        "def sample_text(model, loader, vocab, num_samples):\n",
        "    model.eval()\n",
        "\n",
        "    with torch.no_grad():\n",
        "        for x, y in loader:\n",
        "            x, y = x.to(device), y.to(device)\n",
        "            outputs = model(x)\n",
        "            _, predictions = torch.max(outputs, 1)\n",
        "\n",
        "            # Convert tensor to list\n",
        "            x = x.cpu().numpy().tolist()[:num_samples]\n",
        "            y = y.cpu().numpy().tolist()[:num_samples]\n",
        "            predictions = predictions.cpu().numpy().tolist()[:num_samples]\n",
        "            itos = vocab.get_itos()\n",
        "\n",
        "            # Convert token IDs back to words, and words to sentences\n",
        "            text_samples = [' '.join([itos[token] for token in sentence if token < len(itos)]) for sentence in x]\n",
        "\n",
        "            return text_samples, y, predictions"
      ]
    },
    {
      "cell_type": "code",
      "execution_count": null,
      "id": "534f0220",
      "metadata": {
        "id": "534f0220",
        "outputId": "85c61e75-23af-4f78-e64b-1386844018a7"
      },
      "outputs": [
        {
          "name": "stdout",
          "output_type": "stream",
          "text": [
            "Text Sample 1: exo adds portal software to objectweb objectweb , a consortium focused on delivery of open source infrastructure technologies , announced tuesday that exo platform sarl has joined the consortium and that its enterprise portal solution ( eps ) will be hosted by objectweb . <unk> <unk> <unk> <unk> <unk> <unk>\n",
            "True Label: 3 - Sci/Tech\n",
            "Predicted Label: 3 - Sci/Tech\n",
            "--------------------------------------------------------------------------------\n",
            "Text Sample 2: update singapore st engineering 3q net 17 to s\\$102 . 1m singapore ( dow jones ) --singapore technologies engineering ltd . ( s63 . sg ) reported a 17 rise in third-quarter net profit friday because of stronger earnings from its ship-repair and shipbuilding activities . <unk> <unk> <unk> <unk>\n",
            "True Label: 2 - Business\n",
            "Predicted Label: 2 - Business\n",
            "--------------------------------------------------------------------------------\n",
            "Text Sample 3: the ipod in perspective that #39 s the number of music players that apple computer ( nasdaq aapl - news - people ) said it sold in its most recent quarter . <unk> <unk> <unk> <unk> <unk> <unk> <unk> <unk> <unk> <unk> <unk> <unk> <unk> <unk> <unk> <unk> <unk> <unk>\n",
            "True Label: 2 - Business\n",
            "Predicted Label: 3 - Sci/Tech\n",
            "--------------------------------------------------------------------------------\n",
            "Text Sample 4: arsenal equal nottingham forest #39 s 42-match unbeaten record with a &lt b&gt . . . &lt /b&gt it was not enough for arsenal to make their mark by pulling level with nottingham forest #39 s record of 42 league matches undefeated . <unk> <unk> <unk> <unk> <unk> <unk> <unk>\n",
            "True Label: 1 - Sports\n",
            "Predicted Label: 1 - Sports\n",
            "--------------------------------------------------------------------------------\n",
            "Text Sample 5: megawati ' s party seals deal with golkar to dominate indonesia ' s parliament ( afp ) afp - president megawati sukarnoputri forged a pact with indonesia ' s largest political group golkar to form a bloc that will dominate parliament but is seen as unlikely to ensure her reelection\n",
            "True Label: 0 - World\n",
            "Predicted Label: 0 - World\n",
            "--------------------------------------------------------------------------------\n"
          ]
        }
      ],
      "source": [
        "# List of possible labels for classifying texts\n",
        "classes = [\"World\", \"Sports\", \"Business\", \"Sci/Tech\"]\n",
        "\n",
        "# Implementing the sample_text function on 5 texts from the training dataset\n",
        "x_text, y, predictions = sample_text(rnn_model, train_loader, vocab, 5)\n",
        "\n",
        "# Formatting the results of the 5 sample texts for better understanding\n",
        "for i in range(len(x_text)):\n",
        "    print(f\"Text Sample {i+1}: {x_text[i]}\")\n",
        "    print(f\"True Label: {y[i]} - {classes[y[i]]}\")\n",
        "    print(f\"Predicted Label: {predictions[i]} - {classes[predictions[i]]}\")\n",
        "    print(\"-\" * 80)"
      ]
    },
    {
      "cell_type": "code",
      "execution_count": null,
      "id": "473b43c9",
      "metadata": {
        "id": "473b43c9"
      },
      "outputs": [],
      "source": [
        "# Importing aditional libraries for displaying the confusion matrix\n",
        "from sklearn.metrics import confusion_matrix\n",
        "import seaborn as sns\n",
        "import matplotlib.pyplot as plt"
      ]
    },
    {
      "cell_type": "code",
      "execution_count": null,
      "id": "bb38e093",
      "metadata": {
        "id": "bb38e093"
      },
      "outputs": [],
      "source": [
        "# Function for getting the predictions of a selected dataset.\n",
        "def get_predictions(model, loader):\n",
        "    # Validating model is in evaluation mode\n",
        "    model.eval()\n",
        "    # List for model predictions and labels\n",
        "    all_preds = []\n",
        "    all_labels = []\n",
        "\n",
        "    # No gradient required\n",
        "    with torch.no_grad():\n",
        "        for x, y in loader:\n",
        "            x, y = x.to(device), y.to(device)\n",
        "            outputs = model(x)\n",
        "            _, preds = torch.max(outputs, 1)\n",
        "            # Predictions and labels added to the end of each list\n",
        "            all_preds.extend(preds.cpu().numpy())\n",
        "            all_labels.extend(y.cpu().numpy())\n",
        "\n",
        "    return all_labels, all_preds"
      ]
    },
    {
      "cell_type": "code",
      "execution_count": null,
      "id": "e7d73f69",
      "metadata": {
        "id": "e7d73f69"
      },
      "outputs": [],
      "source": [
        "# Function for plotting the confusion matrix of our RNN model predictions\n",
        "def plot_confusion_matrix(model, loader):\n",
        "    y_true, y_pred = get_predictions(model, loader)\n",
        "    cm = confusion_matrix(y_true, y_pred)\n",
        "    sns.heatmap(cm, annot=True, fmt='d', cmap='Blues', xticklabels=classes, yticklabels=classes)\n",
        "    plt.xlabel('Predicted')\n",
        "    plt.ylabel('True')\n",
        "    plt.title('Confusion Matrix')\n",
        "    plt.show()"
      ]
    },
    {
      "cell_type": "code",
      "execution_count": null,
      "id": "5327e204",
      "metadata": {
        "id": "5327e204",
        "outputId": "1419170e-d283-4c16-bbbf-159b197986b4"
      },
      "outputs": [
        {
          "data": {
            "image/png": "[encoded data removed]",
            "text/plain": [
              "<Figure size 640x480 with 2 Axes>"
            ]
          },
          "metadata": {},
          "output_type": "display_data"
        }
      ],
      "source": [
        "# Plotting our confusion matrix with our model\n",
        "plot_confusion_matrix(rnn_model, test_loader)"
      ]
    },
    {
      "cell_type": "markdown",
      "source": [
        "## Bibliography:\n",
        "* Pepe Cantoral, Ph.D. (2023b, octubre 30). ¡LSTM: todo lo que necesitas saber! [Vídeo]. YouTube. https://www.youtube.com/watch?v=f6PaCo-NfJA\n",
        "* First steps with SciKit-Plot — Scikit-Plot documentation. (s. f.). https://scikit-plot.readthedocs.io/en/stable/Quickstart.html\n",
        "*"
      ],
      "metadata": {
        "id": "cgpBeSh3IEhV"
      },
      "id": "cgpBeSh3IEhV"
    }
  ],
  "metadata": {
    "kernelspec": {
      "display_name": "Python 3 (ipykernel)",
      "language": "python",
      "name": "python3"
    },
    "language_info": {
      "codemirror_mode": {
        "name": "ipython",
        "version": 3
      },
      "file_extension": ".py",
      "mimetype": "text/x-python",
      "name": "python",
      "nbconvert_exporter": "python",
      "pygments_lexer": "ipython3",
      "version": "3.11.6"
    },
    "varInspector": {
      "cols": {
        "lenName": 16,
        "lenType": 16,
        "lenVar": 40
      },
      "kernels_config": {
        "python": {
          "delete_cmd_postfix": "",
          "delete_cmd_prefix": "del ",
          "library": "var_list.py",
          "varRefreshCmd": "print(var_dic_list())"
        },
        "r": {
          "delete_cmd_postfix": ") ",
          "delete_cmd_prefix": "rm(",
          "library": "var_list.r",
          "varRefreshCmd": "cat(var_dic_list()) "
        }
      },
      "types_to_exclude": [
        "module",
        "function",
        "builtin_function_or_method",
        "instance",
        "_Feature"
      ],
      "window_display": false
    },
    "colab": {
      "provenance": [],
      "include_colab_link": true
    }
  },
  "nbformat": 4,
  "nbformat_minor": 5
}